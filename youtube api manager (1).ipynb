{
 "cells": [
  {
   "cell_type": "markdown",
   "id": "0a42fd53",
   "metadata": {},
   "source": [
    "## \"This notebook was created as part of the CCT College Dublin Diploma in Python Programming - Web API assignment\".\n",
    "##### \"Created by Unnati Bhardwaj, \n",
   ]
  },
  {
   "cell_type": "code",
   "execution_count": null,
   "id": "e2d16606",
   "metadata": {},
   "outputs": [],
   "source": [
    "#!pip install --upgrade google-api-python-client google-auth-httplib2 google-auth-oauthlib"
   ]
  },
  {
   "cell_type": "code",
   "execution_count": 1,
   "id": "072aa7c9",
   "metadata": {},
   "outputs": [],
   "source": [
    "import os.path\n",
    "import datetime\n",
    "import shutil\n",
    "from googleapiclient.discovery import build\n",
    "from google.auth.transport.requests import Request\n",
    "from google.oauth2.credentials import Credentials\n",
    "from google_auth_oauthlib.flow import InstalledAppFlow\n",
    "from googleapiclient.errors import HttpError"
   ]
  },
  {
   "cell_type": "markdown",
   "id": "0b458a4c",
   "metadata": {},
   "source": [
    "## Authenticate with youtube api"
   ]
  },
  {
   "cell_type": "code",
   "execution_count": 2,
   "id": "67906420",
   "metadata": {},
   "outputs": [],
   "source": [
    "def get_youtube_creds():\n",
    "    SCOPES = [\"https://www.googleapis.com/auth/youtube.force-ssl\",\n",
    "              \"https://www.googleapis.com/auth/youtube\",\n",
    "              \"https://www.googleapis.com/auth/youtube.upload\"\n",
    "             ,\"https://www.googleapis.com/auth/youtube.readonly\"]\n",
    "    '''\n",
    "     Authenticates and returns Youtube API credentials\n",
    "     Input:None(uses client_secret.json and token.json files)\n",
    "     output:creds(credentials object):authenticated user credentials\n",
    "     created on:05/08/2025\n",
    "     '''\n",
    "    creds = None\n",
    "    \n",
    "    if os.path.exists(\"token.json\"):\n",
    "        creds = Credentials.from_authorized_user_file(\"token.json\", SCOPES)\n",
    "        print(\"Have tokens!\")\n",
    "    \n",
    "    if not creds or not creds.valid:\n",
    "        if creds and creds.expired and creds.refresh_token:\n",
    "            creds.refresh(Request())\n",
    "            print(\"Refreshed token!\")\n",
    "        else:\n",
    "            flow = InstalledAppFlow.from_client_secrets_file(\n",
    "                \"client_secret.json\", SCOPES\n",
    "            )\n",
    "            creds = flow.run_local_server(port=8080,prompt='consent', authorization_prompt_message='', success_message='Authentication complete, you can close this window.', open_browser=True)\n",
    "            print(\"Got new token\")\n",
    "    \n",
    "    with open(\"token.json\", \"w\") as token:\n",
    "        token.write(creds.to_json())\n",
    "    \n",
    "    return creds\n"
   ]
  },
  {
   "cell_type": "code",
   "execution_count": 3,
   "id": "49d7512e",
   "metadata": {},
   "outputs": [
    {
     "name": "stdout",
     "output_type": "stream",
     "text": [
      "Got new token\n"
     ]
    }
   ],
   "source": [
    "creds = get_youtube_creds()"
   ]
  },
  {
   "cell_type": "markdown",
   "id": "35776c45",
   "metadata": {},
   "source": [
    "## Get user input and save it to a file"
   ]
  },
  {
   "cell_type": "code",
   "execution_count": 4,
   "id": "9abe659e",
   "metadata": {},
   "outputs": [
    {
     "name": "stdout",
     "output_type": "stream",
     "text": [
      " Welcome to my  youtube page\n",
      "Enter a name for new playlist=my songs\n",
      "Enter a description for the playlist=top 5 songs\n",
      " input is saved in the file filename.\n",
      "\n"
     ]
    }
   ],
   "source": [
    "print(\" Welcome to my  youtube page\")\n",
    "playlist_name=input(\"Enter a name for new playlist=\")\n",
    "playlist_description=input(\"Enter a description for the playlist=\")\n",
    "# create a filename with date\n",
    "date=datetime.datetime.now()\n",
    "filename=f\"playlist{date.strftime('%m-%d-%Y')}.txt\"\n",
    "#save user input to file\n",
    "with open(filename, \"w\",encoding=\"utf-8\")as f:\n",
    "    f.write(f\"playlist name:{playlist_name}\\n\")\n",
    "    f.write(f\"Description:{playlist_description}\\n\")\n",
    "print(f\" input is saved in the file {'filename'}.\\n\")"
   ]
  },
  {
   "cell_type": "markdown",
   "id": "ef0f8f8f",
   "metadata": {},
   "source": [
    "## create a youtube playlist"
   ]
  },
  {
   "cell_type": "code",
   "execution_count": 5,
   "id": "83107eea",
   "metadata": {},
   "outputs": [
    {
     "name": "stdout",
     "output_type": "stream",
     "text": [
      "Have tokens!\n",
      "Created Playlist ID: PLPQOJOeR6-a882FRtprZtcFVQraXoTmoE\n"
     ]
    }
   ],
   "source": [
    "def create_youtube_playlist(title, description):\n",
    "    '''\n",
    "    Creates a new youtube playlist using the Youtube Data api.\n",
    "    input: title(str):the name/title of the playlist,description(str): The description of the playlist\n",
    "    Output:(str): the id of the newly created playlist, or none if failed.\n",
    "    created on:05.08/2025\n",
    "    '''\n",
    "    creds = get_youtube_creds()\n",
    "    service = build(\"youtube\", \"v3\", credentials=creds)\n",
    "    try:\n",
    "        request = service.playlists().insert(\n",
    "            part=\"snippet,status\",\n",
    "            body={\n",
    "                \"snippet\": {\n",
    "                    \"title\": title,\n",
    "                    \"description\": description\n",
    "                },\n",
    "                \"status\": {\n",
    "                    \"privacyStatus\": \"private\"\n",
    "                }\n",
    "            }\n",
    "        )\n",
    "        response = request.execute()\n",
    "        print(\"Created Playlist ID:\", response[\"id\"])\n",
    "        return response[\"id\"]\n",
    "    except Exception as e:\n",
    "        print(\"An error occurred:\", e)\n",
    "        return None\n",
    "\n",
    "\n",
    "playlist_id = create_youtube_playlist(playlist_name, playlist_description)"
   ]
  },
  {
   "cell_type": "markdown",
   "id": "da78ccf5",
   "metadata": {},
   "source": [
    "## get songs from user"
   ]
  },
  {
   "cell_type": "code",
   "execution_count": 6,
   "id": "d22b22aa",
   "metadata": {},
   "outputs": [
    {
     "name": "stdout",
     "output_type": "stream",
     "text": [
      "Add some songs to the playlist.\n",
      "Enter the names of the songs\n",
      "Enter song name #1: i wanna be yours\n",
      "Enter song name #2: abhi na jao chordkar\n",
      "Enter song name #3: style\n",
      "Enter song name #4: rolling in deep\n",
      "Enter song name #5: stand by me\n",
      "5 songs reached.\n"
     ]
    }
   ],
   "source": [
    "print(\"Add some songs to the playlist.\")\n",
    "print(\"Enter the names of the songs\")\n",
    "songs = []\n",
    "while True:\n",
    "    song = input(f\"Enter song name #{len(songs)+1}: \")\n",
    "    if song.strip().lower() == 'done':\n",
    "        break\n",
    "    songs.append(song)\n",
    "    if len(songs) == 5:\n",
    "        print(\"5 songs reached.\")\n",
    "        break"
   ]
  },
  {
   "cell_type": "markdown",
   "id": "7dd22c17",
   "metadata": {},
   "source": [
    "## search for each song and add to playlist\n"
   ]
  },
  {
   "cell_type": "code",
   "execution_count": 7,
   "id": "a323abb2",
   "metadata": {},
   "outputs": [],
   "source": [
    "def search_youtube_video(query,max_results=1):\n",
    "    '''\n",
    "    Searches youtube for a video based on the provided query string.\n",
    "    Input: query(str)- The search keyword for the video, max_result(int,options)- Number of search results to return. default is 1.\n",
    "    output:(str or none): The video ID of the first found result, or None if not found.\n",
    "    created on: 05/08/2025\n",
    "    '''\n",
    "    creds=get_youtube_creds()\n",
    "    service=build(\"youtube\",\"v3\",credentials=creds)\n",
    "    request=service.search().list(\n",
    "    q=query,\n",
    "    part=\"snippet\",\n",
    "    type=\"video\",\n",
    "    maxResults=max_results\n",
    "    )\n",
    "    response=request.execute()\n",
    "    if response['items']:\n",
    "        video_id=response['items'][0]['id']['videoId']\n",
    "        print(f\"found video:{response['items'][0]['snippet']['title']}((ID: {video_id})\")\n",
    "        return video_id\n",
    "    else:\n",
    "        print(\"No video found for:\", query)\n",
    "        return None\n"
   ]
  },
  {
   "cell_type": "markdown",
   "id": "c6167f31",
   "metadata": {},
   "source": [
    "## add videos in playlist"
   ]
  },
  {
   "cell_type": "code",
   "execution_count": 8,
   "id": "ae18c367",
   "metadata": {},
   "outputs": [],
   "source": [
    "def add_video_to_playlist(playlist_id, video_id):\n",
    "    \"\"\"\n",
    "    Adds a video to the specified Youtube playlist.\n",
    "    Input: playlist_id (str)-The ID of the YouTube playlist,video_id (str)-The ID of the YouTube video to add.\n",
    "    Output:(str)-The playlistItem ID (unique ID for the video within the playlist).\n",
    "    created on:05/08/2025\n",
    "    \"\"\"\n",
    "    creds = get_youtube_creds()\n",
    "    service = build(\"youtube\", \"v3\", credentials=creds)\n",
    "    request = service.playlistItems().insert(\n",
    "        part=\"snippet\",\n",
    "        body={\n",
    "            \"snippet\": {\n",
    "                \"playlistId\": playlist_id,\n",
    "                \"resourceId\": {\n",
    "                    \"kind\": \"youtube#video\",\n",
    "                    \"videoId\": video_id\n",
    "                }\n",
    "            }\n",
    "        }\n",
    "    )\n",
    "    response = request.execute()\n",
    "    print(f\"Added video ID {video_id} to playlist!\")\n",
    "    return response[\"id\"]"
   ]
  },
  {
   "cell_type": "markdown",
   "id": "5ee75f46",
   "metadata": {},
   "source": [
    "## add songs to playlist"
   ]
  },
  {
   "cell_type": "code",
   "execution_count": 9,
   "id": "e52751f1",
   "metadata": {},
   "outputs": [
    {
     "name": "stdout",
     "output_type": "stream",
     "text": [
      "Have tokens!\n",
      "Created Playlist ID: PLPQOJOeR6-a8qsdSYe9O51fSpJxXVOqah\n",
      "\n",
      "Adding songs to playlist...\n",
      "Have tokens!\n",
      "found video:I Wanna Be Yours((ID: nyuo9-OjNNg)\n",
      "Have tokens!\n",
      "Added video ID nyuo9-OjNNg to playlist!\n",
      "Have tokens!\n",
      "found video:Abhi Na Jao Chhodkar | World Music Day Concert 24 | Sourendro-Soumyojit((ID: AB-I3vsUk6g)\n",
      "Have tokens!\n",
      "Added video ID AB-I3vsUk6g to playlist!\n",
      "Have tokens!\n",
      "found video:Taylor Swift - Style((ID: -CmadmM5cOk)\n",
      "Have tokens!\n",
      "Added video ID -CmadmM5cOk to playlist!\n",
      "Have tokens!\n",
      "found video:Adele - Rolling in the Deep (Official Music Video)((ID: rYEDA3JcQqw)\n",
      "Have tokens!\n",
      "Added video ID rYEDA3JcQqw to playlist!\n",
      "Have tokens!\n",
      "found video:Ben E. King - Stand By Me (Audio)((ID: hwZNL7QVJjE)\n",
      "Have tokens!\n",
      "Added video ID hwZNL7QVJjE to playlist!\n"
     ]
    }
   ],
   "source": [
    "playlist_id = create_youtube_playlist(playlist_name, playlist_description)\n",
    "playlist_item_ids = []\n",
    "\n",
    "print(\"\\nAdding songs to playlist...\")\n",
    "for song in songs:\n",
    "    video_id = search_youtube_video(song)\n",
    "    if video_id:\n",
    "        playlist_item_id = add_video_to_playlist(playlist_id, video_id)\n",
    "        playlist_item_ids.append(playlist_item_id)"
   ]
  },
  {
   "cell_type": "markdown",
   "id": "a18102f0",
   "metadata": {},
   "source": [
    "## show actual playlist from youtube"
   ]
  },
  {
   "cell_type": "code",
   "execution_count": 10,
   "id": "cef3f22f",
   "metadata": {},
   "outputs": [],
   "source": [
    "def show_playlist_videos(playlist_id):\n",
    "    '''\n",
    "     Prints the list of videos currently in the specified playlist.\n",
    "     Input:playlist_id (str)-The ID of the YouTube playlist.\n",
    "     Output:None (prints the videos and their IDs).\n",
    "     Created on: 05/08/2025\n",
    "    '''\n",
    "    creds=get_youtube_creds()\n",
    "    service=build(\"youtube\",\"v3\",credentials=creds)\n",
    "    request=service.playlistItems().list(\n",
    "    part=\"snippet\",\n",
    "    playlistId=playlist_id,\n",
    "    maxResults=50\n",
    "    )\n",
    "    response = request.execute()\n",
    "    print(\"\\nCurrent Playlist Videos\")\n",
    "    for i, item in enumerate(response.get(\"items\", []), start=1):\n",
    "        title = item['snippet']['title']\n",
    "        video_id = item['snippet']['resourceId']['videoId']\n",
    "        print(f\"{i}. {title} (Video ID: {video_id})\")"
   ]
  },
  {
   "cell_type": "code",
   "execution_count": 11,
   "id": "733e4fbb",
   "metadata": {},
   "outputs": [
    {
     "name": "stdout",
     "output_type": "stream",
     "text": [
      "Have tokens!\n",
      "\n",
      "Current Playlist Videos\n",
      "1. I Wanna Be Yours (Video ID: nyuo9-OjNNg)\n",
      "2. Abhi Na Jao Chhodkar | World Music Day Concert 24 | Sourendro-Soumyojit (Video ID: AB-I3vsUk6g)\n",
      "3. Taylor Swift - Style (Video ID: -CmadmM5cOk)\n",
      "4. Adele - Rolling in the Deep (Official Music Video) (Video ID: rYEDA3JcQqw)\n",
      "5. Ben E. King - Stand By Me (Audio) (Video ID: hwZNL7QVJjE)\n"
     ]
    }
   ],
   "source": [
    "show_playlist_videos(playlist_id)"
   ]
  },
  {
   "cell_type": "markdown",
   "id": "dab5a5f9",
   "metadata": {},
   "source": [
    "## delete video from palylist"
   ]
  },
  {
   "cell_type": "code",
   "execution_count": 12,
   "id": "dc7a07f0",
   "metadata": {},
   "outputs": [],
   "source": [
    "def delete_video_from_playlist(playlist_item_id):\n",
    "    '''\n",
    "    Deletes a video from a playlist based on the playlistItem ID.\n",
    "    Input:playlist_item_id (str)-The ID of the video within the playlist.\n",
    "    Output-None (prints confirmation of deletion).Created on: 05/08/2025\n",
    "    '''\n",
    "    creds=get_youtube_creds()\n",
    "    service=build(\"youtube\",\"v3\",credentials=creds)\n",
    "    request=service.playlistItems().delete(id=playlist_item_id)\n",
    "    request.execute()\n",
    "    print(f\"Deleted playlist item{playlist_item_id}\")"
   ]
  },
  {
   "cell_type": "markdown",
   "id": "f5017c68",
   "metadata": {},
   "source": [
    "## Delete the second song"
   ]
  },
  {
   "cell_type": "code",
   "execution_count": 13,
   "id": "f8615a40",
   "metadata": {
    "scrolled": true
   },
   "outputs": [
    {
     "name": "stdout",
     "output_type": "stream",
     "text": [
      "lets delete the 2nd song from the playlist\n",
      "Have tokens!\n",
      "Deleted playlist itemUExQUU9KT2VSNi1hOHFzZFNZZTlPNTFmU3BKeFhWT3FhaC4yODlGNEE0NkRGMEEzMEQy\n"
     ]
    }
   ],
   "source": [
    "if len(playlist_item_ids)>=2:\n",
    "    print(\"lets delete the 2nd song from the playlist\")\n",
    "    delete_video_from_playlist(playlist_item_ids[1])"
   ]
  },
  {
   "cell_type": "markdown",
   "id": "22f69879",
   "metadata": {},
   "source": [
    "## add another song after deletion"
   ]
  },
  {
   "cell_type": "code",
   "execution_count": 14,
   "id": "37aa543a",
   "metadata": {
    "scrolled": true
   },
   "outputs": [
    {
     "name": "stdout",
     "output_type": "stream",
     "text": [
      "add another song in the list after deletion\n",
      "\n",
      "enter the new song name after deletion:cardigan\n",
      "Have tokens!\n",
      "found video:cardigan - taylor swift (tiktok version, slowed + reverb)((ID: cy2avZxPH1k)\n",
      "Have tokens!\n",
      "Added video ID cy2avZxPH1k to playlist!\n"
     ]
    }
   ],
   "source": [
    "print(\"add another song in the list after deletion\\n\")\n",
    "new_song=input(\"enter the new song name after deletion:\")\n",
    "new_song_id=search_youtube_video(new_song)\n",
    "if new_song_id:\n",
    "    add_video_to_playlist(playlist_id,new_song_id)"
   ]
  },
  {
   "cell_type": "code",
   "execution_count": 15,
   "id": "3924756b",
   "metadata": {
    "scrolled": true
   },
   "outputs": [
    {
     "name": "stdout",
     "output_type": "stream",
     "text": [
      "Have tokens!\n",
      "\n",
      "Current Playlist Videos\n",
      "1. I Wanna Be Yours (Video ID: nyuo9-OjNNg)\n",
      "2. Taylor Swift - Style (Video ID: -CmadmM5cOk)\n",
      "3. Adele - Rolling in the Deep (Official Music Video) (Video ID: rYEDA3JcQqw)\n",
      "4. Ben E. King - Stand By Me (Audio) (Video ID: hwZNL7QVJjE)\n",
      "5. cardigan - taylor swift (tiktok version, slowed + reverb) (Video ID: cy2avZxPH1k)\n"
     ]
    }
   ],
   "source": [
    "show_playlist_videos(playlist_id)"
   ]
  },
  {
   "cell_type": "markdown",
   "id": "c41bf384",
   "metadata": {},
   "source": [
    "##  FILE MOVE TO LOGS FOLDER "
   ]
  },
  {
   "cell_type": "code",
   "execution_count": 16,
   "id": "acc3ec90",
   "metadata": {},
   "outputs": [
    {
     "name": "stdout",
     "output_type": "stream",
     "text": [
      "Your file has been moved to: logs/playlist_2025-08-05.txt\n"
     ]
    }
   ],
   "source": [
    "logs_folder = \"logs\"\n",
    "if not os.path.exists(logs_folder):\n",
    "    os.makedirs(logs_folder)\n",
    "new_filename = f\"{logs_folder}/playlist_{date.strftime('%Y-%m-%d')}.txt\"\n",
    "shutil.move(filename, new_filename)\n",
    "print(f\"Your file has been moved to: {new_filename}\")\n"
   ]
  },
  {
   "cell_type": "code",
   "execution_count": 17,
   "id": "20b0c5b0",
   "metadata": {},
   "outputs": [
    {
     "name": "stdout",
     "output_type": "stream",
     "text": [
      "View your playlist here: https://www.youtube.com/playlist?list=PLPQOJOeR6-a8qsdSYe9O51fSpJxXVOqah\n"
     ]
    }
   ],
   "source": [
    "print(f\"View your playlist here: https://www.youtube.com/playlist?list={playlist_id}\")"
   ]
  },
  {
   "cell_type": "code",
   "execution_count": null,
   "id": "85cdcfd4",
   "metadata": {},
   "outputs": [],
   "source": []
  }
 ],
 "metadata": {
  "kernelspec": {
   "display_name": "Python 3 (ipykernel)",
   "language": "python",
   "name": "python3"
  },
  "language_info": {
   "codemirror_mode": {
    "name": "ipython",
    "version": 3
   },
   "file_extension": ".py",
   "mimetype": "text/x-python",
   "name": "python",
   "nbconvert_exporter": "python",
   "pygments_lexer": "ipython3",
   "version": "3.11.5"
  }
 },
 "nbformat": 4,
 "nbformat_minor": 5
}
